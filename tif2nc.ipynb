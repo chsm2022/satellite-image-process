{
 "cells": [
  {
   "cell_type": "code",
   "execution_count": 2,
   "id": "17a1b6a7",
   "metadata": {},
   "outputs": [
    {
     "data": {
      "text/plain": [
       "<class 'netCDF4._netCDF4.Dataset'>\n",
       "root group (NETCDF4 data model, file format HDF5):\n",
       "    dimensions(sizes): lon(16623), lat(16852)\n",
       "    variables(dimensions): float32 lon(lon), float32 lat(lat), float32 data(lat, lon)\n",
       "    groups: "
      ]
     },
     "execution_count": 2,
     "metadata": {},
     "output_type": "execute_result"
    }
   ],
   "source": [
    "from osgeo import gdal \n",
    "import numpy as np\n",
    "from netCDF4 import Dataset\n",
    "# 设置输入文件名和输出文件名\n",
    "input_file = 'D:/cloud/data/cloud_summer/cloud_summer/2009-0000000000-0000023296.tif'\n",
    "output_file = 'D:/cloud/data/cloud_summer/cloud_summer/2009_my_nc_file.nc'\n",
    "# 打开TIFF文件并读取数据\n",
    "src_ds = gdal.Open(input_file)\n",
    "data = src_ds.GetRasterBand(1).ReadAsArray()\n",
    "# 获取数据维度和空间参考\n",
    "cols = src_ds.RasterXSize\n",
    "rows = src_ds.RasterYSize\n",
    "proj = src_ds.GetProjection()\n",
    "geotrans = src_ds.GetGeoTransform()\n",
    "# 创建一个NetCDF文件并设置变量维度\n",
    "nc_ds = Dataset(output_file, 'w')\n",
    "nc_ds.createDimension('lon', cols)\n",
    "nc_ds.createDimension('lat', rows)\n",
    "# 创建变量并设置元数据和空间参考\n",
    "lon_var = nc_ds.createVariable('lon', 'f4', ('lon',))\n",
    "lon_var.units = 'degrees_east'\n",
    "lat_var = nc_ds.createVariable('lat', 'f4', ('lat',))\n",
    "lat_var.units = 'degrees_north'\n",
    "vardata = nc_ds.createVariable('data', 'f4', ('lat', 'lon',))\n",
    "vardata.units = 'units'\n",
    "vardata._CoordinateAxisType = \"Lon Lat\"\n",
    "# 设置变量的数据和元数据\n",
    "lon_var[:] = np.arange(cols) * geotrans[1] + geotrans[0]\n",
    "lat_var[:] = np.arange(rows) * geotrans[5] + geotrans[3]\n",
    "vardata[:, :] = data\n",
    "vardata.setncattr('grid_mapping', 'latitude_longitude')\n",
    "vardata.setncattr('projection', proj)\n",
    "# 关闭文件\n",
    "#nc_ds.close()\n",
    "#src_ds = None\n",
    "nc_ds"
   ]
  },
  {
   "cell_type": "code",
   "execution_count": null,
   "id": "7172b02a",
   "metadata": {},
   "outputs": [],
   "source": []
  }
 ],
 "metadata": {
  "kernelspec": {
   "display_name": "Python 3 (ipykernel)",
   "language": "python",
   "name": "python3"
  },
  "language_info": {
   "codemirror_mode": {
    "name": "ipython",
    "version": 3
   },
   "file_extension": ".py",
   "mimetype": "text/x-python",
   "name": "python",
   "nbconvert_exporter": "python",
   "pygments_lexer": "ipython3",
   "version": "3.11.5"
  }
 },
 "nbformat": 4,
 "nbformat_minor": 5
}
